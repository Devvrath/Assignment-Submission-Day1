{
 "cells": [
  {
   "cell_type": "markdown",
   "metadata": {},
   "source": [
    "1) After running the following code, what does the variable bacon contain?\n",
    "\n",
    "bacon = 22\n",
    "\n",
    "bacon + 1\n",
    "\n",
    "Ans: 23"
   ]
  },
  {
   "cell_type": "markdown",
   "metadata": {},
   "source": [
    "2) What should the values of the following two terms be?\n",
    "\n",
    "'spam' + 'spamspam'\n",
    "\n",
    "'spam' * 3\n",
    "\n",
    "Ans: 'spamspamspam'"
   ]
  },
  {
   "cell_type": "markdown",
   "metadata": {},
   "source": [
    "3) How can you tell the difference between break and continue?\n",
    "Ans: Break stops and leaves from the loop whereas in continue the current iteration is stopped and goes to the next loop"
   ]
  },
  {
   "cell_type": "markdown",
   "metadata": {},
   "source": [
    "4) In a for loop, what is the difference between range(10), range(0, 10), and range(0, 10, 1)?\n",
    "\n",
    "Ans: \n",
    "1. range(10) - The output will be from 0 to 9 as the numbers are generated up to the stop number (in this case it is 10) but does not includes the stop number \n",
    "2. range(0,10) - Output will be 0 to 9. In this the start number is 0 and end stop number is 10 so the number ranges from 0 to 9 as the stop number will not be included\n",
    "3. range(0,10,1) - Output will be 0 to 9 same as above but in this case the '1' denotes the step. The step is used to define the increment value the next number will be generating "
   ]
  },
  {
   "cell_type": "markdown",
   "metadata": {},
   "source": [
    "5) Using a for loop, write a short programme that prints the numbers 1 to 10 Then, using a while loop, create an identical programme that prints the numbers 1 to 10.\n",
    "\n",
    "For loop - for i in range(1,11):\n",
    "                print (i)\n",
    "\n",
    "While loop - c = 1\n",
    "             while c < 11:\n",
    "                 print(c)\n",
    "                 c = c+1"
   ]
  },
  {
   "cell_type": "markdown",
   "metadata": {},
   "source": [
    "6) Given a number x, determine whether the given number is Armstrong number or not.\n",
    "\n",
    "Input : 153\n",
    "\n",
    "Output : Yes\n",
    "\n",
    "153 is an Armstrong number.\n",
    "\n",
    "1 * 1 * 1 + 5 * 5 * 5 + 3 * 3 * 3 = 153\n",
    "\n",
    "Ans:\n",
    "\n",
    "n = int(input(\"Enter a no.: \"))\n",
    "\n",
    "a = 0 \n",
    "\n",
    "temp = n\n",
    "while temp > 0:\n",
    "    d = temp % 10\n",
    "    a += d ** 3\n",
    "    temp//= 10\n",
    "    \n",
    "if n == a:\n",
    "    print(n,\"is an Armstrong number\")\n",
    "else:\n",
    "    print(n,\"is not an Armstrong number\")"
   ]
  },
  {
   "cell_type": "markdown",
   "metadata": {},
   "source": [
    "7) Program to find Sum of squares of first n natural numbers.\n",
    "Ans:\n",
    "def squaresum(n):\n",
    "    a=0\n",
    "    for i in range(1,n+1):\n",
    "        a = a + (i*1)\n",
    "    return a\n",
    "n = 5\n",
    "print(squaresum(n))\n"
   ]
  },
  {
   "cell_type": "markdown",
   "metadata": {},
   "source": [
    "8) Program to Reverse words in a given String in Python.\n",
    "Ans:\n",
    "def reverse(a):\n",
    "    s = \"\"\n",
    "    for i in a:\n",
    "        s = i + s\n",
    "        return s\n",
    "a = \"Name\"\n",
    "print(\"Original name: \", end=\"\")\n",
    "print(a)\n",
    "print(\"Reverse name: \", end=\"\")\n",
    "print(reverse(a))\n"
   ]
  },
  {
   "cell_type": "markdown",
   "metadata": {},
   "source": [
    "9) Given a list of numbers, write a Python program to find the sum of all the elements in the list.\n",
    "\n",
    "Input: [10,12,13]\n",
    "\n",
    "Output: 35"
   ]
  },
  {
   "cell_type": "markdown",
   "metadata": {},
   "source": [
    "10) Write a Python program to print all even numbers between 10-1000.\n",
    "Ans:\n",
    "start, end = 10, 1000\n",
    "\n",
    "for i in range(start, end+1):\n",
    "    if i % 2 ==0:\n",
    "        print(i, end = \" \")\n"
   ]
  }
 ],
 "metadata": {
  "kernelspec": {
   "display_name": "Python 3",
   "language": "python",
   "name": "python3"
  },
  "language_info": {
   "codemirror_mode": {
    "name": "ipython",
    "version": 3
   },
   "file_extension": ".py",
   "mimetype": "text/x-python",
   "name": "python",
   "nbconvert_exporter": "python",
   "pygments_lexer": "ipython3",
   "version": "3.7.4"
  }
 },
 "nbformat": 4,
 "nbformat_minor": 2
}
